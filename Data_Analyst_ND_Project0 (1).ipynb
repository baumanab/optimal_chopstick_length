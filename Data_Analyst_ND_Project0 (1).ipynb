{
 "cells": [
  {
   "cell_type": "markdown",
   "metadata": {},
   "source": [
    "# Chopsticks!\n",
    "\n",
    "A few researchers set out to determine the optimal length of chopsticks for children and adults. They came up with a measure of how effective a pair of chopsticks performed, called the \"Food Pinching Performance.\" The \"Food Pinching Performance\" was determined by counting the number of peanuts picked and placed in a cup (PPPC).\n",
    "\n",
    "### An investigation for determining the optimum length of chopsticks.\n",
    "[Link to Abstract and Paper](http://www.ncbi.nlm.nih.gov/pubmed/15676839)  \n",
    "*the abstract below was adapted from the link*\n",
    "\n",
    "Chopsticks are one of the most simple and popular hand tools ever invented by humans, but have not previously been investigated by [ergonomists](https://www.google.com/search?q=ergonomists). Two laboratory studies were conducted in this research, using a [randomised complete block design](http://dawg.utk.edu/glossary/whatis_rcbd.htm), to evaluate the effects of the length of the chopsticks on the food-serving performance of adults and children. Thirty-one male junior college students and 21 primary school pupils served as subjects for the experiment to test chopsticks lengths of 180, 210, 240, 270, 300, and 330 mm. The results showed that the food-pinching performance was significantly affected by the length of the chopsticks, and that chopsticks of about 240 and 180 mm long were optimal for adults and pupils, respectively. Based on these findings, the researchers suggested that families with children should provide both 240 and 180 mm long chopsticks. In addition, restaurants could provide 210 mm long chopsticks, considering the trade-offs between ergonomics and cost.\n",
    "\n",
    "### For the rest of this project, answer all questions based only on the part of the experiment analyzing the thirty-one adult male college students.\n",
    "Download the [data set for the adults](https://www.udacity.com/api/nodes/4576183932/supplemental_media/chopstick-effectivenesscsv/download), then answer the following questions based on the abstract and the data set.\n",
    "\n",
    "**If you double click on this cell**, you will see the text change so that all of the formatting is removed. This allows you to edit this block of text. This block of text is written using [Markdown](http://daringfireball.net/projects/markdown/syntax), which is a way to format text using headers, links, italics, and many other options. You will learn more about Markdown later in the Nanodegree Program. Hit shift + enter or shift + return to show the formatted text."
   ]
  },
  {
   "cell_type": "markdown",
   "metadata": {},
   "source": [
    "#### 1. What is the independent variable in the experiment?\n",
    "You can either double click on this cell to add your answer in this cell, or use the plus sign in the toolbar (Insert cell below) to add your answer in a new cell.\n"
   ]
  },
  {
   "cell_type": "raw",
   "metadata": {},
   "source": [
    "The independent variable is Chopstick Length"
   ]
  },
  {
   "cell_type": "markdown",
   "metadata": {},
   "source": [
    "#### 2. What is the dependent variable in the experiment?\n",
    "\n"
   ]
  },
  {
   "cell_type": "raw",
   "metadata": {},
   "source": [
    "The depenent variable is Food Pinching efficiency"
   ]
  },
  {
   "cell_type": "markdown",
   "metadata": {},
   "source": [
    "#### 3. How is the dependent variable operationally defined?\n",
    "\n"
   ]
  },
  {
   "cell_type": "raw",
   "metadata": {},
   "source": [
    "Number of peanuts picked and placed in a cup (PPPC)"
   ]
  },
  {
   "cell_type": "markdown",
   "metadata": {},
   "source": [
    "#### 4. Based on the description of the experiment and the data set, list at least two variables that you know were controlled.\n",
    "Think about the participants who generated the data and what they have in common. You don't need to guess any variables or read the full paper to determine these variables. (For example, it seems plausible that the material of the chopsticks was held constant, but this is not stated in the abstract or data description.)\n",
    "\n"
   ]
  },
  {
   "cell_type": "raw",
   "metadata": {},
   "source": [
    "sex, chopstick attributes excluding length (e.g materials, shape, width or diameter), age (child vs. adult), object picked up (peanuts vs. something else, one would expect peanut attributes to differ little from peanut to peanut), duration of test (time to put peanuts in cup with chopsticks)"
   ]
  },
  {
   "cell_type": "markdown",
   "metadata": {},
   "source": [
    "One great advantage of ipython notebooks is that you can document your data analysis using code, add comments to the code, or even add blocks of text using Markdown. These notebooks allow you to collaborate with others and share your work. For now, let's see some code for doing statistics."
   ]
  },
  {
   "cell_type": "code",
   "execution_count": 1,
   "metadata": {
    "collapsed": false
   },
   "outputs": [],
   "source": [
    "import pandas as pd\n",
    "\n",
    "# pandas is a software library for data manipulation and analysis\n",
    "# We commonly use shorter nicknames for certain packages. Pandas is often abbreviated to pd.\n",
    "# hit shift + enter to run this cell or block of code"
   ]
  },
  {
   "cell_type": "code",
   "execution_count": 2,
   "metadata": {
    "collapsed": false
   },
   "outputs": [
    {
     "data": {
      "text/html": [
       "<div>\n",
       "<table border=\"1\" class=\"dataframe\">\n",
       "  <thead>\n",
       "    <tr style=\"text-align: right;\">\n",
       "      <th></th>\n",
       "      <th>Food.Pinching.Efficiency</th>\n",
       "      <th>Individual</th>\n",
       "      <th>Chopstick.Length</th>\n",
       "    </tr>\n",
       "  </thead>\n",
       "  <tbody>\n",
       "    <tr>\n",
       "      <th>0</th>\n",
       "      <td>19.55</td>\n",
       "      <td>1</td>\n",
       "      <td>180</td>\n",
       "    </tr>\n",
       "    <tr>\n",
       "      <th>1</th>\n",
       "      <td>27.24</td>\n",
       "      <td>2</td>\n",
       "      <td>180</td>\n",
       "    </tr>\n",
       "    <tr>\n",
       "      <th>2</th>\n",
       "      <td>28.76</td>\n",
       "      <td>3</td>\n",
       "      <td>180</td>\n",
       "    </tr>\n",
       "    <tr>\n",
       "      <th>3</th>\n",
       "      <td>31.19</td>\n",
       "      <td>4</td>\n",
       "      <td>180</td>\n",
       "    </tr>\n",
       "    <tr>\n",
       "      <th>4</th>\n",
       "      <td>21.91</td>\n",
       "      <td>5</td>\n",
       "      <td>180</td>\n",
       "    </tr>\n",
       "  </tbody>\n",
       "</table>\n",
       "</div>"
      ],
      "text/plain": [
       "   Food.Pinching.Efficiency  Individual  Chopstick.Length\n",
       "0                     19.55           1               180\n",
       "1                     27.24           2               180\n",
       "2                     28.76           3               180\n",
       "3                     31.19           4               180\n",
       "4                     21.91           5               180"
      ]
     },
     "execution_count": 2,
     "metadata": {},
     "output_type": "execute_result"
    }
   ],
   "source": [
    "path = r'~/Downloads/chopstick-effectiveness.csv'\n",
    "# Change the path to the location where the chopstick-effectiveness.csv file is located on your computer.\n",
    "# If you get an error when running this block of code, be sure the chopstick-effectiveness.csv is located at the path on your computer.\n",
    "\n",
    "dataFrame = pd.read_csv(path)\n",
    "dataFrame.head()"
   ]
  },
  {
   "cell_type": "markdown",
   "metadata": {},
   "source": [
    "Let's do a basic statistical calculation on the data using code! Run the block of code below to calculate the average \"Food Pinching Efficiency\" for all 31 participants and all chopstick lengths."
   ]
  },
  {
   "cell_type": "code",
   "execution_count": 3,
   "metadata": {
    "collapsed": false
   },
   "outputs": [
    {
     "data": {
      "text/plain": [
       "25.00559139784947"
      ]
     },
     "execution_count": 3,
     "metadata": {},
     "output_type": "execute_result"
    }
   ],
   "source": [
    "dataFrame['Food.Pinching.Efficiency'].mean()"
   ]
  },
  {
   "cell_type": "markdown",
   "metadata": {},
   "source": [
    "This number is helpful, but the number doesn't let us know which of the chopstick lengths performed best for the thirty-one male junior college students. Let's break down the data by chopstick length. The next block of code will generate the average \"Food Pinching Effeciency\" for each chopstick length. Run the block of code below."
   ]
  },
  {
   "cell_type": "code",
   "execution_count": 4,
   "metadata": {
    "collapsed": false
   },
   "outputs": [
    {
     "data": {
      "text/html": [
       "<div>\n",
       "<table border=\"1\" class=\"dataframe\">\n",
       "  <thead>\n",
       "    <tr style=\"text-align: right;\">\n",
       "      <th></th>\n",
       "      <th>Chopstick.Length</th>\n",
       "      <th>Food.Pinching.Efficiency</th>\n",
       "    </tr>\n",
       "  </thead>\n",
       "  <tbody>\n",
       "    <tr>\n",
       "      <th>0</th>\n",
       "      <td>180</td>\n",
       "      <td>24.935161</td>\n",
       "    </tr>\n",
       "    <tr>\n",
       "      <th>1</th>\n",
       "      <td>210</td>\n",
       "      <td>25.483871</td>\n",
       "    </tr>\n",
       "    <tr>\n",
       "      <th>2</th>\n",
       "      <td>240</td>\n",
       "      <td>26.322903</td>\n",
       "    </tr>\n",
       "    <tr>\n",
       "      <th>3</th>\n",
       "      <td>270</td>\n",
       "      <td>24.323871</td>\n",
       "    </tr>\n",
       "    <tr>\n",
       "      <th>4</th>\n",
       "      <td>300</td>\n",
       "      <td>24.968065</td>\n",
       "    </tr>\n",
       "    <tr>\n",
       "      <th>5</th>\n",
       "      <td>330</td>\n",
       "      <td>23.999677</td>\n",
       "    </tr>\n",
       "  </tbody>\n",
       "</table>\n",
       "</div>"
      ],
      "text/plain": [
       "   Chopstick.Length  Food.Pinching.Efficiency\n",
       "0               180                 24.935161\n",
       "1               210                 25.483871\n",
       "2               240                 26.322903\n",
       "3               270                 24.323871\n",
       "4               300                 24.968065\n",
       "5               330                 23.999677"
      ]
     },
     "execution_count": 4,
     "metadata": {},
     "output_type": "execute_result"
    }
   ],
   "source": [
    "meansByChopstickLength = dataFrame.groupby('Chopstick.Length')['Food.Pinching.Efficiency'].mean().reset_index()\n",
    "meansByChopstickLength\n",
    "\n",
    "# reset_index() changes Chopstick.Length from an index to column. Instead of the index being the length of the chopsticks, the index is the row numbers 0, 1, 2, 3, 4, 5."
   ]
  },
  {
   "cell_type": "markdown",
   "metadata": {},
   "source": [
    "#### 5. Which chopstick length performed the best for the group of thirty-one male junior college students?\n",
    "\n"
   ]
  },
  {
   "cell_type": "raw",
   "metadata": {},
   "source": [
    "240 mm"
   ]
  },
  {
   "cell_type": "code",
   "execution_count": 5,
   "metadata": {
    "collapsed": false
   },
   "outputs": [
    {
     "name": "stdout",
     "output_type": "stream",
     "text": [
      "Populating the interactive namespace from numpy and matplotlib\n"
     ]
    },
    {
     "data": {
      "image/png": "[encoded data removed]",
      "text/plain": [
       "<matplotlib.figure.Figure at 0x7748490>"
      ]
     },
     "metadata": {},
     "output_type": "display_data"
    }
   ],
   "source": [
    "# Causes plots to display within the notebook rather than in a new window\n",
    "%pylab inline\n",
    "\n",
    "import matplotlib.pyplot as plt\n",
    "\n",
    "plt.scatter(x=meansByChopstickLength['Chopstick.Length'], y=meansByChopstickLength['Food.Pinching.Efficiency'])\n",
    "            # title=\"\")\n",
    "plt.xlabel(\"Length in mm\")\n",
    "plt.ylabel(\"Efficiency in PPPC\")\n",
    "plt.title(\"Average Food Pinching Efficiency by Chopstick Length\")\n",
    "plt.show()"
   ]
  },
  {
   "cell_type": "markdown",
   "metadata": {},
   "source": [
    "#### 6. Based on the scatterplot created from the code above, interpret the relationship you see. What do you notice?\n",
    "\n"
   ]
  },
  {
   "cell_type": "markdown",
   "metadata": {},
   "source": [
    "- The plot is misleading (very narrow Y axis range)\n",
    "- PPPC increases as a function of length in mm, up to 240 mm."
   ]
  },
  {
   "cell_type": "markdown",
   "metadata": {},
   "source": [
    "### In the abstract the researchers stated that their results showed food-pinching performance was significantly affected by the length of the chopsticks, and that chopsticks of about 240 mm long were optimal for adults.\n",
    "\n",
    "#### 7a. Based on the data you have analyzed, do you agree with the claim?\n",
    "\n",
    "It's a bit of a mixed bag.  I do agree that performance is significantly (statstically significant, not necessarilly practically significant) affected by chopstick length, but I don't agree that 240 mm is the optimal length.  Furthermore, the change in performance as a function of chopstick length, is marginal at best.  \n",
    "\n",
    "#### 7b. Why?\n",
    "\n",
    "To answer the question of whether there is a statstically significant difference is effeciency/performance for adults, as a function of chopstick length, I performed a paired one-tailed t-test (see below) for the difference in efficiency of each length of chopstick (180mm, 210mm, 270mm, 300mm, and 330mm) relative to the reported optimum (240mm).\n",
    "\n",
    "- alpha level: .05\n",
    "- Null Hypothesis H0: There is no difference in the means of efficiency between chopsticks 240mm in length and that of chopsticks either 180mm, 210mm, 270mm, 300mm, or 330mm in length.\n",
    "\n",
    "MeanEfficiency_240mmLength - MeanEfficiency_EachOtherLength = 0\n",
    "\n",
    "- Alternative Hypothesis Ha:  There is a postitive difference in the means of efficiency between chopsticks 240mm in length and the of chopsticks of either 180mm, 210mm, 270mm, or 330mm in length.\n",
    "\n",
    "MeanEfficiency_240mmLength - MeanEfficiency_EachOtherLength > 0\n",
    "\n",
    "\n",
    "Given the p-values below, we reject the null hypothesis in favor of the alternative hypothesis for all lengths excepting 210mm.  We fail to reject the null hypothesis for 210mm.  Also note for this length, that 0 is in 95% CI.  Only a small proportion of this CI is in the range of <= 0, with the remainder > 0.  Considering this, it is possible, given enough subjects (statstical power) that we might resolve a difference between the two lengths, but even if we show a statistical signifcant differennce, the results are not likely to be practically signficant.  The mean difference between each length and 240mm is < 3 PPPC.  I'm not privy to where the line is drawn in terms of practical significance, but this seems marginal.  So, overall we can't resolve a performance difference between 210 and 240mm and for those lengths where we can resolve a difference, the difference is marginal.\n",
    "\n"
   ]
  },
  {
   "cell_type": "markdown",
   "metadata": {},
   "source": [
    "### Effeciency as a function of chopstick length, hypothesis testing"
   ]
  },
  {
   "cell_type": "markdown",
   "metadata": {},
   "source": [
    "Note that while I could have used scipy.stats to determine the t-statistic and p-value from the raw data, I intentionally performed the analysis step-wise for benefit of the audeince, my future self, and to reinforce learning."
   ]
  },
  {
   "cell_type": "code",
   "execution_count": 6,
   "metadata": {
    "collapsed": false
   },
   "outputs": [],
   "source": [
    "import scipy as sp\n",
    "from scipy import stats"
   ]
  },
  {
   "cell_type": "code",
   "execution_count": 7,
   "metadata": {
    "collapsed": true
   },
   "outputs": [],
   "source": [
    "# rename columns to something more convenient (easily amenable to dot notation)\n",
    "\n",
    "dataFrame = dataFrame.rename(columns = {'Food.Pinching.Efficiency':'Efficiency', \n",
    "                            'Chopstick.Length':'Length'})"
   ]
  },
  {
   "cell_type": "code",
   "execution_count": 8,
   "metadata": {
    "collapsed": false
   },
   "outputs": [],
   "source": [
    "# drop the unused column 'Individual'\n",
    "\n",
    "dataFrame = dataFrame.drop(['Individual'], axis = 1)"
   ]
  },
  {
   "cell_type": "code",
   "execution_count": 9,
   "metadata": {
    "collapsed": false
   },
   "outputs": [],
   "source": [
    "def diff_lengths(df, ref_length):\n",
    "    \n",
    "    \n",
    "    '''Accepts: PANDAS DataFrame and a reference length (integer)\n",
    "       Returns: Dict with lengths as key and array of efficiency\n",
    "       differences from the reference length as values'''\n",
    "    \n",
    "    ret = {}\n",
    "    lengths = df.Length.unique()\n",
    "    \n",
    "    for length in lengths:\n",
    "        ret[str(length)] = (df[df.Length == ref_length].Efficiency.values - \n",
    "                       df[df.Length == length].Efficiency.values)      \n",
    "\n",
    "        \n",
    "    del ret[str(ref_length)]\n",
    "    \n",
    "    return ret   \n",
    "    "
   ]
  },
  {
   "cell_type": "code",
   "execution_count": 10,
   "metadata": {
    "collapsed": false
   },
   "outputs": [],
   "source": [
    "# create a dict of performance differences for each length relative to 240mm using diff_lengths()\n",
    "\n",
    "diff_dict = diff_lengths(dataFrame, 240)"
   ]
  },
  {
   "cell_type": "code",
   "execution_count": 11,
   "metadata": {
    "collapsed": false
   },
   "outputs": [],
   "source": [
    "# create a PANDAS DataFrame from the differences dict\n",
    "\n",
    "df_diff = pd.DataFrame.from_dict(diff_dict)"
   ]
  },
  {
   "cell_type": "code",
   "execution_count": 12,
   "metadata": {
    "collapsed": false
   },
   "outputs": [
    {
     "data": {
      "text/plain": [
       "30"
      ]
     },
     "execution_count": 12,
     "metadata": {},
     "output_type": "execute_result"
    }
   ],
   "source": [
    "# degrees of freedom = number of subjects (series length) - 1\n",
    "\n",
    "degrees_freedom = len(dataFrame[dataFrame.Length == 180]) - 1\n",
    "degrees_freedom"
   ]
  },
  {
   "cell_type": "code",
   "execution_count": 13,
   "metadata": {
    "collapsed": false
   },
   "outputs": [
    {
     "data": {
      "text/html": [
       "<div>\n",
       "<table border=\"1\" class=\"dataframe\">\n",
       "  <thead>\n",
       "    <tr style=\"text-align: right;\">\n",
       "      <th></th>\n",
       "      <th>180</th>\n",
       "      <th>210</th>\n",
       "      <th>270</th>\n",
       "      <th>300</th>\n",
       "      <th>330</th>\n",
       "    </tr>\n",
       "  </thead>\n",
       "  <tbody>\n",
       "    <tr>\n",
       "      <th>count</th>\n",
       "      <td>31.000000</td>\n",
       "      <td>31.000000</td>\n",
       "      <td>31.000000</td>\n",
       "      <td>31.000000</td>\n",
       "      <td>31.000000</td>\n",
       "    </tr>\n",
       "    <tr>\n",
       "      <th>mean</th>\n",
       "      <td>1.387742</td>\n",
       "      <td>0.839032</td>\n",
       "      <td>1.999032</td>\n",
       "      <td>1.354839</td>\n",
       "      <td>2.323226</td>\n",
       "    </tr>\n",
       "    <tr>\n",
       "      <th>std</th>\n",
       "      <td>3.442612</td>\n",
       "      <td>3.175329</td>\n",
       "      <td>3.402315</td>\n",
       "      <td>3.012744</td>\n",
       "      <td>2.343952</td>\n",
       "    </tr>\n",
       "    <tr>\n",
       "      <th>min</th>\n",
       "      <td>-4.110000</td>\n",
       "      <td>-5.890000</td>\n",
       "      <td>-6.380000</td>\n",
       "      <td>-3.790000</td>\n",
       "      <td>-1.570000</td>\n",
       "    </tr>\n",
       "    <tr>\n",
       "      <th>25%</th>\n",
       "      <td>-1.125000</td>\n",
       "      <td>-1.800000</td>\n",
       "      <td>-0.325000</td>\n",
       "      <td>-0.830000</td>\n",
       "      <td>0.600000</td>\n",
       "    </tr>\n",
       "    <tr>\n",
       "      <th>50%</th>\n",
       "      <td>1.350000</td>\n",
       "      <td>1.540000</td>\n",
       "      <td>1.950000</td>\n",
       "      <td>1.210000</td>\n",
       "      <td>1.920000</td>\n",
       "    </tr>\n",
       "    <tr>\n",
       "      <th>75%</th>\n",
       "      <td>2.910000</td>\n",
       "      <td>3.450000</td>\n",
       "      <td>4.920000</td>\n",
       "      <td>3.555000</td>\n",
       "      <td>4.190000</td>\n",
       "    </tr>\n",
       "    <tr>\n",
       "      <th>max</th>\n",
       "      <td>9.460000</td>\n",
       "      <td>7.130000</td>\n",
       "      <td>7.160000</td>\n",
       "      <td>7.330000</td>\n",
       "      <td>7.180000</td>\n",
       "    </tr>\n",
       "  </tbody>\n",
       "</table>\n",
       "</div>"
      ],
      "text/plain": [
       "             180        210        270        300        330\n",
       "count  31.000000  31.000000  31.000000  31.000000  31.000000\n",
       "mean    1.387742   0.839032   1.999032   1.354839   2.323226\n",
       "std     3.442612   3.175329   3.402315   3.012744   2.343952\n",
       "min    -4.110000  -5.890000  -6.380000  -3.790000  -1.570000\n",
       "25%    -1.125000  -1.800000  -0.325000  -0.830000   0.600000\n",
       "50%     1.350000   1.540000   1.950000   1.210000   1.920000\n",
       "75%     2.910000   3.450000   4.920000   3.555000   4.190000\n",
       "max     9.460000   7.130000   7.160000   7.330000   7.180000"
      ]
     },
     "execution_count": 13,
     "metadata": {},
     "output_type": "execute_result"
    }
   ],
   "source": [
    "desc = df_diff.describe()\n",
    "desc"
   ]
  },
  {
   "cell_type": "code",
   "execution_count": 14,
   "metadata": {
    "collapsed": false
   },
   "outputs": [],
   "source": [
    "# arrays of pertinent stats from the descriptive statistics DataFrame\n",
    "\n",
    "means = desc.loc['mean']\n",
    "stdevs = desc.loc['std']\n",
    "SEs = stdevs/sqrt(31)\n",
    "t_stats = means/SEs\n",
    "p_stats = sp.stats.t.sf(t_stats, 30)\n",
    "MEs = 1.697 * SEs # t crtical 95% for 30 df = 1.697\n",
    "CIs_lower = means - MEs\n",
    "CIs_upper = means + MEs"
   ]
  },
  {
   "cell_type": "code",
   "execution_count": 15,
   "metadata": {
    "collapsed": false
   },
   "outputs": [
    {
     "data": {
      "text/plain": [
       "180    2.244406\n",
       "210    1.471197\n",
       "270    3.271343\n",
       "300    2.503838\n",
       "330    5.518533\n",
       "dtype: float64"
      ]
     },
     "execution_count": 15,
     "metadata": {},
     "output_type": "execute_result"
    }
   ],
   "source": [
    "# the t statistics\n",
    "\n",
    "t_stats"
   ]
  },
  {
   "cell_type": "code",
   "execution_count": 16,
   "metadata": {
    "collapsed": false
   },
   "outputs": [
    {
     "data": {
      "text/plain": [
       "array([  1.61681621e-02,   7.58252556e-02,   1.34636443e-03,\n",
       "         8.97733830e-03,   2.69476305e-06])"
      ]
     },
     "execution_count": 16,
     "metadata": {},
     "output_type": "execute_result"
    }
   ],
   "source": [
    "# p values (order = 180mm, 210mm, 270mm, 300mm, 330mm)\n",
    "p_stats"
   ]
  },
  {
   "cell_type": "code",
   "execution_count": 17,
   "metadata": {
    "collapsed": false
   },
   "outputs": [
    {
     "data": {
      "text/plain": [
       "180    0.338468\n",
       "210   -0.128777\n",
       "270    0.962040\n",
       "300    0.436584\n",
       "330    1.608812\n",
       "dtype: float64"
      ]
     },
     "execution_count": 17,
     "metadata": {},
     "output_type": "execute_result"
    }
   ],
   "source": [
    "# 95% confidence interval lower bound\n",
    "\n",
    "CIs_lower"
   ]
  },
  {
   "cell_type": "code",
   "execution_count": 18,
   "metadata": {
    "collapsed": false
   },
   "outputs": [
    {
     "data": {
      "text/plain": [
       "180    2.437016\n",
       "210    1.806841\n",
       "270    3.036025\n",
       "300    2.273094\n",
       "330    3.037639\n",
       "dtype: float64"
      ]
     },
     "execution_count": 18,
     "metadata": {},
     "output_type": "execute_result"
    }
   ],
   "source": [
    "# 95% confidence interval upper bound\n",
    "\n",
    "CIs_upper"
   ]
  },
  {
   "cell_type": "code",
   "execution_count": null,
   "metadata": {
    "collapsed": true
   },
   "outputs": [],
   "source": []
  }
 ],
 "metadata": {
  "kernelspec": {
   "display_name": "Python 2",
   "language": "python",
   "name": "python2"
  },
  "language_info": {
   "codemirror_mode": {
    "name": "ipython",
    "version": 2
   },
   "file_extension": ".py",
   "mimetype": "text/x-python",
   "name": "python",
   "nbconvert_exporter": "python",
   "pygments_lexer": "ipython2",
   "version": "2.7.11"
  }
 },
 "nbformat": 4,
 "nbformat_minor": 0
}
